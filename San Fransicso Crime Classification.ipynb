{
 "cells": [
  {
   "cell_type": "code",
   "execution_count": 1,
   "metadata": {},
   "outputs": [],
   "source": [
    "from pyspark.sql import SparkSession\n",
    "spark = SparkSession.builder.appName('CrimeClassify').getOrCreate()"
   ]
  },
  {
   "cell_type": "markdown",
   "metadata": {},
   "source": [
    "## Reading and Exploring training data"
   ]
  },
  {
   "cell_type": "code",
   "execution_count": 2,
   "metadata": {},
   "outputs": [],
   "source": [
    "train = spark.read.csv('/home/jovyan/Advanced Big data project/train.csv',inferSchema=True,\n",
    "                     header=True)"
   ]
  },
  {
   "cell_type": "code",
   "execution_count": 3,
   "metadata": {},
   "outputs": [
    {
     "name": "stdout",
     "output_type": "stream",
     "text": [
      "root\n",
      " |-- Dates: timestamp (nullable = true)\n",
      " |-- Category: string (nullable = true)\n",
      " |-- Descript: string (nullable = true)\n",
      " |-- DayOfWeek: string (nullable = true)\n",
      " |-- PdDistrict: string (nullable = true)\n",
      " |-- Resolution: string (nullable = true)\n",
      " |-- Address: string (nullable = true)\n",
      " |-- X: double (nullable = true)\n",
      " |-- Y: double (nullable = true)\n",
      "\n"
     ]
    }
   ],
   "source": [
    "train.printSchema()"
   ]
  },
  {
   "cell_type": "code",
   "execution_count": 4,
   "metadata": {},
   "outputs": [
    {
     "name": "stdout",
     "output_type": "stream",
     "text": [
      "+-------------------+--------------+--------------------+---------+----------+--------------+--------------------+-------------------+------------------+\n",
      "|              Dates|      Category|            Descript|DayOfWeek|PdDistrict|    Resolution|             Address|                  X|                 Y|\n",
      "+-------------------+--------------+--------------------+---------+----------+--------------+--------------------+-------------------+------------------+\n",
      "|2015-05-13 23:53:00|      WARRANTS|      WARRANT ARREST|Wednesday|  NORTHERN|ARREST, BOOKED|  OAK ST / LAGUNA ST|  -122.425891675136|  37.7745985956747|\n",
      "|2015-05-13 23:53:00|OTHER OFFENSES|TRAFFIC VIOLATION...|Wednesday|  NORTHERN|ARREST, BOOKED|  OAK ST / LAGUNA ST|  -122.425891675136|  37.7745985956747|\n",
      "|2015-05-13 23:33:00|OTHER OFFENSES|TRAFFIC VIOLATION...|Wednesday|  NORTHERN|ARREST, BOOKED|VANNESS AV / GREE...|   -122.42436302145|  37.8004143219856|\n",
      "|2015-05-13 23:30:00| LARCENY/THEFT|GRAND THEFT FROM ...|Wednesday|  NORTHERN|          NONE|1500 Block of LOM...|-122.42699532676599| 37.80087263276921|\n",
      "|2015-05-13 23:30:00| LARCENY/THEFT|GRAND THEFT FROM ...|Wednesday|      PARK|          NONE|100 Block of BROD...|  -122.438737622757|37.771541172057795|\n",
      "+-------------------+--------------+--------------------+---------+----------+--------------+--------------------+-------------------+------------------+\n",
      "only showing top 5 rows\n",
      "\n"
     ]
    }
   ],
   "source": [
    "train.show(5)"
   ]
  },
  {
   "cell_type": "code",
   "execution_count": 5,
   "metadata": {},
   "outputs": [
    {
     "data": {
      "text/plain": [
       "878049"
      ]
     },
     "execution_count": 5,
     "metadata": {},
     "output_type": "execute_result"
    }
   ],
   "source": [
    "train.count() #there are 878049 row"
   ]
  },
  {
   "cell_type": "code",
   "execution_count": 6,
   "metadata": {},
   "outputs": [
    {
     "name": "stdout",
     "output_type": "stream",
     "text": [
      "+-------+-----------+--------------------+---------+----------+--------------+--------------------+-------------------+------------------+\n",
      "|summary|   Category|            Descript|DayOfWeek|PdDistrict|    Resolution|             Address|                  X|                 Y|\n",
      "+-------+-----------+--------------------+---------+----------+--------------+--------------------+-------------------+------------------+\n",
      "|  count|     878049|              878049|   878049|    878049|        878049|              878049|             878049|            878049|\n",
      "|   mean|       null|                null|     null|      null|          null|                null| -122.4226164550638| 37.77102029800635|\n",
      "| stddev|       null|                null|     null|      null|          null|                null|0.03035362299848847|0.4568931047058097|\n",
      "|    min|      ARSON|ABANDONMENT OF CHILD|   Friday|   BAYVIEW|ARREST, BOOKED|0 Block of  HARRI...|   -122.51364206429|  37.7078790224135|\n",
      "|    max|WEAPON LAWS|         YOUTH COURT|Wednesday|TENDERLOIN|     UNFOUNDED|   ZOE ST / WELSH ST|             -120.5|              90.0|\n",
      "+-------+-----------+--------------------+---------+----------+--------------+--------------------+-------------------+------------------+\n",
      "\n"
     ]
    }
   ],
   "source": [
    "train.describe().show()"
   ]
  },
  {
   "cell_type": "markdown",
   "metadata": {},
   "source": [
    "#### Getting Number of Crimes per each crime category"
   ]
  },
  {
   "cell_type": "code",
   "execution_count": 7,
   "metadata": {},
   "outputs": [
    {
     "data": {
      "text/plain": [
       "39"
      ]
     },
     "execution_count": 7,
     "metadata": {},
     "output_type": "execute_result"
    }
   ],
   "source": [
    "#First we will get number of crimes categories\n",
    "from pyspark.sql.functions import desc,col\n",
    "train.groupBy(train['Category']).count().orderBy(desc(\"count\")).count()"
   ]
  },
  {
   "cell_type": "code",
   "execution_count": 8,
   "metadata": {},
   "outputs": [],
   "source": [
    "#Now let's get Number of crimes per District but we will take into consideration just the top 10 categories\n",
    "from pyspark.sql.functions import desc,col\n",
    "Crimes_Category=train.groupBy(train['Category']).count().orderBy(desc(\"count\")).limit(10).toPandas()"
   ]
  },
  {
   "cell_type": "code",
   "execution_count": 59,
   "metadata": {},
   "outputs": [
    {
     "data": {
      "image/png": "[encoded data removed]",
      "text/plain": [
       "<Figure size 432x288 with 1 Axes>"
      ]
     },
     "metadata": {},
     "output_type": "display_data"
    }
   ],
   "source": [
    "#Plotting a bar plot that shows number of crimes per cateogry including only the top 10 categories\n",
    "import matplotlib.pyplot as plt\n",
    "import seaborn as sns\n",
    "\n",
    "plt.clf()\n",
    "sns.set(style=\"whitegrid\")\n",
    "sns.barplot(x=\"Category\", y=\"count\", data=Crimes_Category)\n",
    "plt.title('Number of crimes per category')\n",
    "plt.xlabel('Category')\n",
    "plt.xticks(rotation=30)\n",
    "plt.ylabel('Number of crimes')\n",
    "plt.show()"
   ]
  },
  {
   "cell_type": "markdown",
   "metadata": {},
   "source": [
    "Larceny and thefts are the most common crimes"
   ]
  },
  {
   "cell_type": "markdown",
   "metadata": {},
   "source": [
    "#### Getting Number of Crimes per district"
   ]
  },
  {
   "cell_type": "code",
   "execution_count": 10,
   "metadata": {},
   "outputs": [],
   "source": [
    "#getting Number of crimes per District\n",
    "\n",
    "Crimes_District=train.groupBy(train['PdDistrict']).count().orderBy(desc(\"count\")).toPandas()"
   ]
  },
  {
   "cell_type": "code",
   "execution_count": 11,
   "metadata": {},
   "outputs": [
    {
     "data": {
      "image/png": "[encoded data removed]",
      "text/plain": [
       "<Figure size 432x288 with 1 Axes>"
      ]
     },
     "metadata": {
      "needs_background": "light"
     },
     "output_type": "display_data"
    }
   ],
   "source": [
    "#Plotting a bar plot that shows number of crimes per district\n",
    "\n",
    "plt.clf()\n",
    "sns.set(style=\"whitegrid\")\n",
    "sns.barplot(x=\"PdDistrict\", y=\"count\", data=Crimes_District)\n",
    "plt.title('Number of crimes per district')\n",
    "plt.xlabel('Distirct')\n",
    "plt.xticks(rotation=30)\n",
    "plt.ylabel('Number of crimes')\n",
    "plt.show()"
   ]
  },
  {
   "cell_type": "markdown",
   "metadata": {},
   "source": [
    "Southern District suffers from the highest number of crimes while Richmond seems to be the safest place"
   ]
  },
  {
   "cell_type": "markdown",
   "metadata": {},
   "source": [
    "#### Adding Year, Month and hour columns"
   ]
  },
  {
   "cell_type": "code",
   "execution_count": 12,
   "metadata": {},
   "outputs": [],
   "source": [
    "#Now we will extract year, Month and hour from Dates column\n",
    "from pyspark.sql.functions import hour, month, year\n",
    "\n",
    "train=train.withColumn(\"Hour\",hour(train.Dates)).withColumn(\"Month\",month(train.Dates)).withColumn(\"Year\",year(train.Dates))"
   ]
  },
  {
   "cell_type": "code",
   "execution_count": 13,
   "metadata": {},
   "outputs": [
    {
     "name": "stdout",
     "output_type": "stream",
     "text": [
      "+-------------------+--------------+--------------------+---------+----------+--------------+--------------------+-------------------+------------------+----+-----+----+\n",
      "|              Dates|      Category|            Descript|DayOfWeek|PdDistrict|    Resolution|             Address|                  X|                 Y|Hour|Month|Year|\n",
      "+-------------------+--------------+--------------------+---------+----------+--------------+--------------------+-------------------+------------------+----+-----+----+\n",
      "|2015-05-13 23:53:00|      WARRANTS|      WARRANT ARREST|Wednesday|  NORTHERN|ARREST, BOOKED|  OAK ST / LAGUNA ST|  -122.425891675136|  37.7745985956747|  23|    5|2015|\n",
      "|2015-05-13 23:53:00|OTHER OFFENSES|TRAFFIC VIOLATION...|Wednesday|  NORTHERN|ARREST, BOOKED|  OAK ST / LAGUNA ST|  -122.425891675136|  37.7745985956747|  23|    5|2015|\n",
      "|2015-05-13 23:33:00|OTHER OFFENSES|TRAFFIC VIOLATION...|Wednesday|  NORTHERN|ARREST, BOOKED|VANNESS AV / GREE...|   -122.42436302145|  37.8004143219856|  23|    5|2015|\n",
      "|2015-05-13 23:30:00| LARCENY/THEFT|GRAND THEFT FROM ...|Wednesday|  NORTHERN|          NONE|1500 Block of LOM...|-122.42699532676599| 37.80087263276921|  23|    5|2015|\n",
      "|2015-05-13 23:30:00| LARCENY/THEFT|GRAND THEFT FROM ...|Wednesday|      PARK|          NONE|100 Block of BROD...|  -122.438737622757|37.771541172057795|  23|    5|2015|\n",
      "+-------------------+--------------+--------------------+---------+----------+--------------+--------------------+-------------------+------------------+----+-----+----+\n",
      "only showing top 5 rows\n",
      "\n"
     ]
    }
   ],
   "source": [
    "train.show(5)"
   ]
  },
  {
   "cell_type": "markdown",
   "metadata": {},
   "source": [
    "#### Getting number of crimes per year"
   ]
  },
  {
   "cell_type": "code",
   "execution_count": 14,
   "metadata": {},
   "outputs": [],
   "source": [
    "#Now let's get Number of crimes per year\n",
    "Crimes_year=train.groupBy(train['Year']).count().orderBy(desc(\"count\")).toPandas()"
   ]
  },
  {
   "cell_type": "code",
   "execution_count": 15,
   "metadata": {},
   "outputs": [
    {
     "data": {
      "image/png": "[encoded data removed]",
      "text/plain": [
       "<Figure size 432x288 with 1 Axes>"
      ]
     },
     "metadata": {},
     "output_type": "display_data"
    }
   ],
   "source": [
    "#Plotting a bar plot that shows number of crimes per year\n",
    "plt.clf()\n",
    "sns.set(style=\"whitegrid\")\n",
    "sns.barplot(x=\"Year\", y=\"count\", data=Crimes_year)\n",
    "plt.title('Number of crimes per Year')\n",
    "plt.xlabel('Year')\n",
    "plt.xticks(rotation=90)\n",
    "plt.ylabel('Number of crimes')\n",
    "plt.show()"
   ]
  },
  {
   "cell_type": "markdown",
   "metadata": {},
   "source": [
    "Based on the above graph there is signifcant decrease in crime in 2015 but is that really the case? Ain't is possible that the data collected didn't cover the whole year for example. let's find out"
   ]
  },
  {
   "cell_type": "code",
   "execution_count": 16,
   "metadata": {},
   "outputs": [
    {
     "name": "stdout",
     "output_type": "stream",
     "text": [
      "+-----+-----+\n",
      "|Month|count|\n",
      "+-----+-----+\n",
      "|    1| 5866|\n",
      "|    3| 6851|\n",
      "|    5| 2250|\n",
      "|    4| 6609|\n",
      "|    2| 6008|\n",
      "+-----+-----+\n",
      "\n"
     ]
    }
   ],
   "source": [
    "#We need to know whether the whole year 2015 data is available or not\n",
    "train.where(\"Year == 2015\").groupBy(\"Month\").count().show()"
   ]
  },
  {
   "cell_type": "markdown",
   "metadata": {},
   "source": [
    "Only the first 5 months of 2015 were provided but maybe this is the same for the whole data or in other words data provided is for the first 5 months only in each year so we need to check this point also"
   ]
  },
  {
   "cell_type": "code",
   "execution_count": 17,
   "metadata": {},
   "outputs": [
    {
     "name": "stdout",
     "output_type": "stream",
     "text": [
      "+-----+-----+\n",
      "|Month|count|\n",
      "+-----+-----+\n",
      "|   12| 5391|\n",
      "|    1| 5780|\n",
      "|    6| 5992|\n",
      "|    3| 6240|\n",
      "|    5| 6759|\n",
      "|    9| 6667|\n",
      "|    4| 6549|\n",
      "|    8| 6147|\n",
      "|    7| 5808|\n",
      "|   10| 7303|\n",
      "|   11| 6471|\n",
      "|    2| 5659|\n",
      "+-----+-----+\n",
      "\n"
     ]
    }
   ],
   "source": [
    "#Checking whether year 2014 data is for whole year or just the first 5 months\n",
    "train.where(\"Year == 2014\").groupBy(\"Month\").count().show()"
   ]
  },
  {
   "cell_type": "markdown",
   "metadata": {},
   "source": [
    "Year 2014 data covers all months so significant decrease in crimes in 2015 is because the data provided for 2015 covers only the first 5 months. In order to check whether crime in 2015 or not we can check the first 5 months in each year and plot number of crimes again"
   ]
  },
  {
   "cell_type": "code",
   "execution_count": 18,
   "metadata": {},
   "outputs": [],
   "source": [
    "#First of all we will filter the first 5 months only\n",
    "trainFive=train.where(\"Month<=5\")"
   ]
  },
  {
   "cell_type": "code",
   "execution_count": 19,
   "metadata": {},
   "outputs": [
    {
     "data": {
      "image/png": "[encoded data removed]",
      "text/plain": [
       "<Figure size 432x288 with 1 Axes>"
      ]
     },
     "metadata": {},
     "output_type": "display_data"
    }
   ],
   "source": [
    "#Now we will plot the number of crimes for the first 5 months of each year\n",
    "Crimes_5months=trainFive.groupBy(trainFive['Year']).count().orderBy(desc(\"count\")).toPandas()\n",
    "\n",
    "plt.clf()\n",
    "sns.set(style=\"whitegrid\")\n",
    "sns.barplot(x=\"Year\", y=\"count\", data=Crimes_5months)\n",
    "plt.title('Number of crimes per Year(First 5 Months)')\n",
    "plt.xlabel('Year')\n",
    "plt.xticks(rotation=30)\n",
    "plt.ylabel('Number of crimes')\n",
    "plt.show()"
   ]
  },
  {
   "cell_type": "markdown",
   "metadata": {},
   "source": [
    "From the above graph it seems that we were right. the overall crime trend didn't decrease in 2015"
   ]
  },
  {
   "cell_type": "markdown",
   "metadata": {},
   "source": [
    "#### Getting number of crimes per Day of Week"
   ]
  },
  {
   "cell_type": "code",
   "execution_count": 20,
   "metadata": {},
   "outputs": [
    {
     "data": {
      "image/png": "[encoded data removed]",
      "text/plain": [
       "<Figure size 432x288 with 1 Axes>"
      ]
     },
     "metadata": {},
     "output_type": "display_data"
    }
   ],
   "source": [
    "#Plotting Number of crimes per Day of Week\n",
    "Crimes_day=train.groupBy(train['DayOfWeek']).count().orderBy(desc(\"count\")).toPandas()\n",
    "\n",
    "plt.clf()\n",
    "sns.set(style=\"whitegrid\")\n",
    "sns.barplot(x=\"DayOfWeek\", y=\"count\", data=Crimes_day)\n",
    "plt.title('Number of crimes per Day')\n",
    "plt.xlabel('Day')\n",
    "plt.xticks(rotation=90)\n",
    "plt.ylabel('Number of crimes')\n",
    "plt.show()"
   ]
  },
  {
   "cell_type": "markdown",
   "metadata": {},
   "source": [
    "From the above graph we can say that crimes realtively increase on Fridays"
   ]
  },
  {
   "cell_type": "markdown",
   "metadata": {},
   "source": [
    "### Preparing training data for classification "
   ]
  },
  {
   "cell_type": "code",
   "execution_count": 21,
   "metadata": {},
   "outputs": [
    {
     "name": "stdout",
     "output_type": "stream",
     "text": [
      "root\n",
      " |-- Dates: timestamp (nullable = true)\n",
      " |-- Category: string (nullable = true)\n",
      " |-- Descript: string (nullable = true)\n",
      " |-- DayOfWeek: string (nullable = true)\n",
      " |-- PdDistrict: string (nullable = true)\n",
      " |-- Resolution: string (nullable = true)\n",
      " |-- Address: string (nullable = true)\n",
      " |-- X: double (nullable = true)\n",
      " |-- Y: double (nullable = true)\n",
      " |-- Hour: integer (nullable = true)\n",
      " |-- Month: integer (nullable = true)\n",
      " |-- Year: integer (nullable = true)\n",
      "\n"
     ]
    },
    {
     "data": {
      "text/plain": [
       "['Dates',\n",
       " 'Category',\n",
       " 'Descript',\n",
       " 'DayOfWeek',\n",
       " 'PdDistrict',\n",
       " 'Resolution',\n",
       " 'Address',\n",
       " 'X',\n",
       " 'Y',\n",
       " 'Hour',\n",
       " 'Month',\n",
       " 'Year']"
      ]
     },
     "execution_count": 21,
     "metadata": {},
     "output_type": "execute_result"
    }
   ],
   "source": [
    "train.printSchema()\n",
    "train.columns"
   ]
  },
  {
   "cell_type": "code",
   "execution_count": 22,
   "metadata": {},
   "outputs": [],
   "source": [
    "from pyspark.sql.functions import expr\n",
    "cleanedTrain=train.select('Category','DayOfWeek',expr('PdDistrict AS District'),'X','Y','Hour','Month','Year')"
   ]
  },
  {
   "cell_type": "code",
   "execution_count": 23,
   "metadata": {},
   "outputs": [
    {
     "name": "stdout",
     "output_type": "stream",
     "text": [
      "root\n",
      " |-- Category: string (nullable = true)\n",
      " |-- DayOfWeek: string (nullable = true)\n",
      " |-- District: string (nullable = true)\n",
      " |-- X: double (nullable = true)\n",
      " |-- Y: double (nullable = true)\n",
      " |-- Hour: integer (nullable = true)\n",
      " |-- Month: integer (nullable = true)\n",
      " |-- Year: integer (nullable = true)\n",
      "\n"
     ]
    }
   ],
   "source": [
    "cleanedTrain.printSchema()"
   ]
  },
  {
   "cell_type": "code",
   "execution_count": 24,
   "metadata": {},
   "outputs": [
    {
     "name": "stdout",
     "output_type": "stream",
     "text": [
      "+--------------+---------+----------+-------------------+------------------+----+-----+----+\n",
      "|      Category|DayOfWeek|  District|                  X|                 Y|Hour|Month|Year|\n",
      "+--------------+---------+----------+-------------------+------------------+----+-----+----+\n",
      "|      WARRANTS|Wednesday|  NORTHERN|  -122.425891675136|  37.7745985956747|  23|    5|2015|\n",
      "|OTHER OFFENSES|Wednesday|  NORTHERN|  -122.425891675136|  37.7745985956747|  23|    5|2015|\n",
      "|OTHER OFFENSES|Wednesday|  NORTHERN|   -122.42436302145|  37.8004143219856|  23|    5|2015|\n",
      "| LARCENY/THEFT|Wednesday|  NORTHERN|-122.42699532676599| 37.80087263276921|  23|    5|2015|\n",
      "| LARCENY/THEFT|Wednesday|      PARK|  -122.438737622757|37.771541172057795|  23|    5|2015|\n",
      "| LARCENY/THEFT|Wednesday| INGLESIDE|-122.40325236121201|   37.713430704116|  23|    5|2015|\n",
      "| VEHICLE THEFT|Wednesday| INGLESIDE|  -122.423326976668|  37.7251380403778|  23|    5|2015|\n",
      "| VEHICLE THEFT|Wednesday|   BAYVIEW|  -122.371274317441|  37.7275640719518|  23|    5|2015|\n",
      "| LARCENY/THEFT|Wednesday|  RICHMOND|  -122.508194031117|37.776601260681204|  23|    5|2015|\n",
      "| LARCENY/THEFT|Wednesday|   CENTRAL|  -122.419087676747|  37.8078015516515|  23|    5|2015|\n",
      "| LARCENY/THEFT|Wednesday|   CENTRAL|  -122.419087676747|  37.8078015516515|  22|    5|2015|\n",
      "|OTHER OFFENSES|Wednesday|   TARAVAL|  -122.487983072777|37.737666654332706|  22|    5|2015|\n",
      "|     VANDALISM|Wednesday|TENDERLOIN|-122.41241426358101|  37.7830037964534|  22|    5|2015|\n",
      "| LARCENY/THEFT|Wednesday|  NORTHERN|  -122.432914603494|  37.7843533426568|  22|    5|2015|\n",
      "|  NON-CRIMINAL|Wednesday|   BAYVIEW|  -122.397744427103|  37.7299346936044|  22|    5|2015|\n",
      "|  NON-CRIMINAL|Wednesday|   BAYVIEW|-122.38369150395901|  37.7431890419965|  22|    5|2015|\n",
      "|       ROBBERY|Wednesday|TENDERLOIN|  -122.412597377187|37.783932027727296|  22|    5|2015|\n",
      "|       ASSAULT|Wednesday| INGLESIDE|  -122.421681531572|  37.7428222004845|  21|    5|2015|\n",
      "|OTHER OFFENSES|Wednesday|   BAYVIEW|-122.38640086995301|   37.738983491072|  21|    5|2015|\n",
      "|  NON-CRIMINAL|Wednesday|TENDERLOIN|  -122.412249767634|   37.782556330202|  21|    5|2015|\n",
      "+--------------+---------+----------+-------------------+------------------+----+-----+----+\n",
      "only showing top 20 rows\n",
      "\n"
     ]
    }
   ],
   "source": [
    "cleanedTrain.show()"
   ]
  },
  {
   "cell_type": "markdown",
   "metadata": {},
   "source": [
    "Finally we need to change Category column from string to integer in order to input it into classifier noting that we will use CategoryIndex column during classification"
   ]
  },
  {
   "cell_type": "code",
   "execution_count": 25,
   "metadata": {},
   "outputs": [
    {
     "name": "stdout",
     "output_type": "stream",
     "text": [
      "+--------------+---------+----------+-------------------+------------------+----+-----+----+-----+\n",
      "|      Category|DayOfWeek|  District|                  X|                 Y|Hour|Month|Year|label|\n",
      "+--------------+---------+----------+-------------------+------------------+----+-----+----+-----+\n",
      "|      WARRANTS|Wednesday|  NORTHERN|  -122.425891675136|  37.7745985956747|  23|    5|2015|    9|\n",
      "|OTHER OFFENSES|Wednesday|  NORTHERN|  -122.425891675136|  37.7745985956747|  23|    5|2015|    7|\n",
      "|OTHER OFFENSES|Wednesday|  NORTHERN|   -122.42436302145|  37.8004143219856|  23|    5|2015|    7|\n",
      "| LARCENY/THEFT|Wednesday|  NORTHERN|-122.42699532676599| 37.80087263276921|  23|    5|2015|   36|\n",
      "| LARCENY/THEFT|Wednesday|      PARK|  -122.438737622757|37.771541172057795|  23|    5|2015|   36|\n",
      "| LARCENY/THEFT|Wednesday| INGLESIDE|-122.40325236121201|   37.713430704116|  23|    5|2015|   36|\n",
      "| VEHICLE THEFT|Wednesday| INGLESIDE|  -122.423326976668|  37.7251380403778|  23|    5|2015|   33|\n",
      "| VEHICLE THEFT|Wednesday|   BAYVIEW|  -122.371274317441|  37.7275640719518|  23|    5|2015|   33|\n",
      "| LARCENY/THEFT|Wednesday|  RICHMOND|  -122.508194031117|37.776601260681204|  23|    5|2015|   36|\n",
      "| LARCENY/THEFT|Wednesday|   CENTRAL|  -122.419087676747|  37.8078015516515|  23|    5|2015|   36|\n",
      "| LARCENY/THEFT|Wednesday|   CENTRAL|  -122.419087676747|  37.8078015516515|  22|    5|2015|   36|\n",
      "|OTHER OFFENSES|Wednesday|   TARAVAL|  -122.487983072777|37.737666654332706|  22|    5|2015|    7|\n",
      "|     VANDALISM|Wednesday|TENDERLOIN|-122.41241426358101|  37.7830037964534|  22|    5|2015|   29|\n",
      "| LARCENY/THEFT|Wednesday|  NORTHERN|  -122.432914603494|  37.7843533426568|  22|    5|2015|   36|\n",
      "|  NON-CRIMINAL|Wednesday|   BAYVIEW|  -122.397744427103|  37.7299346936044|  22|    5|2015|   34|\n",
      "|  NON-CRIMINAL|Wednesday|   BAYVIEW|-122.38369150395901|  37.7431890419965|  22|    5|2015|   34|\n",
      "|       ROBBERY|Wednesday|TENDERLOIN|  -122.412597377187|37.783932027727296|  22|    5|2015|   22|\n",
      "|       ASSAULT|Wednesday| INGLESIDE|  -122.421681531572|  37.7428222004845|  21|    5|2015|   15|\n",
      "|OTHER OFFENSES|Wednesday|   BAYVIEW|-122.38640086995301|   37.738983491072|  21|    5|2015|    7|\n",
      "|  NON-CRIMINAL|Wednesday|TENDERLOIN|  -122.412249767634|   37.782556330202|  21|    5|2015|   34|\n",
      "+--------------+---------+----------+-------------------+------------------+----+-----+----+-----+\n",
      "only showing top 20 rows\n",
      "\n",
      "root\n",
      " |-- Category: string (nullable = true)\n",
      " |-- DayOfWeek: string (nullable = true)\n",
      " |-- District: string (nullable = true)\n",
      " |-- X: double (nullable = true)\n",
      " |-- Y: double (nullable = true)\n",
      " |-- Hour: integer (nullable = true)\n",
      " |-- Month: integer (nullable = true)\n",
      " |-- Year: integer (nullable = true)\n",
      " |-- label: integer (nullable = true)\n",
      "\n"
     ]
    }
   ],
   "source": [
    "categories=cleanedTrain.select(\"category\").distinct().toPandas()\n",
    "#categories is just a list that we will use for mapping between categories and its IDs\n",
    "categories['label']=list(range(len(categories)))\n",
    "categories['label']=categories['label'].astype(str)\n",
    "cleanedTrain=cleanedTrain.withColumn(\"label\",col(\"Category\"))\n",
    "cleanedTrain=cleanedTrain.replace(list(categories.category),list(categories.label),'label')\n",
    "#Chanigng label column type to integer\n",
    "cleanedTrain=cleanedTrain.withColumn(\"label\",cleanedTrain['label'].cast('int'))\n",
    "cleanedTrain.show()\n",
    "cleanedTrain.printSchema()"
   ]
  },
  {
   "cell_type": "markdown",
   "metadata": {},
   "source": [
    "### Reading and preparing testing data for classification"
   ]
  },
  {
   "cell_type": "code",
   "execution_count": 26,
   "metadata": {},
   "outputs": [],
   "source": [
    "test = spark.read.csv('/home/jovyan/Advanced Big data project/test.csv',inferSchema=True,\n",
    "                     header=True)"
   ]
  },
  {
   "cell_type": "code",
   "execution_count": 27,
   "metadata": {},
   "outputs": [
    {
     "name": "stdout",
     "output_type": "stream",
     "text": [
      "root\n",
      " |-- Id: integer (nullable = true)\n",
      " |-- Dates: timestamp (nullable = true)\n",
      " |-- DayOfWeek: string (nullable = true)\n",
      " |-- PdDistrict: string (nullable = true)\n",
      " |-- Address: string (nullable = true)\n",
      " |-- X: double (nullable = true)\n",
      " |-- Y: double (nullable = true)\n",
      "\n"
     ]
    }
   ],
   "source": [
    "test.printSchema()"
   ]
  },
  {
   "cell_type": "code",
   "execution_count": 28,
   "metadata": {},
   "outputs": [
    {
     "name": "stdout",
     "output_type": "stream",
     "text": [
      "+---+-------------------+---------+----------+--------------------+-------------------+------------------+\n",
      "| Id|              Dates|DayOfWeek|PdDistrict|             Address|                  X|                 Y|\n",
      "+---+-------------------+---------+----------+--------------------+-------------------+------------------+\n",
      "|  0|2015-05-10 23:59:00|   Sunday|   BAYVIEW|2000 Block of THO...|-122.39958770418998|  37.7350510103906|\n",
      "|  1|2015-05-10 23:51:00|   Sunday|   BAYVIEW|  3RD ST / REVERE AV|  -122.391522893042|  37.7324323864471|\n",
      "|  2|2015-05-10 23:50:00|   Sunday|  NORTHERN|2000 Block of GOU...|  -122.426001954961|  37.7922124386284|\n",
      "|  3|2015-05-10 23:45:00|   Sunday| INGLESIDE|4700 Block of MIS...|  -122.437393972517|  37.7214120621391|\n",
      "|  4|2015-05-10 23:45:00|   Sunday| INGLESIDE|4700 Block of MIS...|  -122.437393972517|  37.7214120621391|\n",
      "|  5|2015-05-10 23:40:00|   Sunday|   TARAVAL|BROAD ST / CAPITO...|-122.45902362242902|  37.7131719025215|\n",
      "|  6|2015-05-10 23:30:00|   Sunday| INGLESIDE|100 Block of CHEN...|-122.42561645123001| 37.73935051446279|\n",
      "|  7|2015-05-10 23:30:00|   Sunday| INGLESIDE|200 Block of BANK...|-122.41265203979201|37.739750156312105|\n",
      "|  8|2015-05-10 23:10:00|   Sunday|   MISSION|2900 Block of 16T...|  -122.418700097043|  37.7651649409646|\n",
      "|  9|2015-05-10 23:10:00|   Sunday|   CENTRAL|TAYLOR ST / GREEN ST|  -122.413934584561|37.798886450641604|\n",
      "| 10|2015-05-10 23:00:00|   Sunday| INGLESIDE|100 Block of PERA...|-122.40860777448499|  37.7467873555673|\n",
      "| 11|2015-05-10 23:00:00|   Sunday|   MISSION|600 Block of FLOR...|  -122.411093822635|  37.7610475742041|\n",
      "| 12|2015-05-10 23:00:00|   Sunday|   MISSION|600 Block of FLOR...|  -122.411093822635|  37.7610475742041|\n",
      "| 13|2015-05-10 23:00:00|   Sunday|   CENTRAL|200 Block of VALL...|  -122.402130610278|  37.7993635026487|\n",
      "| 14|2015-05-10 23:00:00|   Sunday|   CENTRAL|JEFFERSON ST / HY...|  -122.420747467177|  37.8075877427735|\n",
      "| 15|2015-05-10 22:50:00|   Sunday|TENDERLOIN|GOLDEN GATE AV / ...|  -122.415508242782|  37.7816542806076|\n",
      "| 16|2015-05-10 22:36:00|   Sunday|   TARAVAL|1200 Block of OCE...|-122.45567852962401|  37.7237017394146|\n",
      "| 17|2015-05-10 22:00:00|   Sunday| INGLESIDE|1200 Block of GIR...|  -122.400298318649|  37.7171808374172|\n",
      "| 18|2015-05-10 22:00:00|   Sunday|  NORTHERN|1900 Block of FIL...|  -122.433668534709|   37.787708547267|\n",
      "| 19|2015-05-10 22:00:00|   Sunday|  NORTHERN|  GREEN ST / POLK ST|  -122.422149614358|  37.7978243786265|\n",
      "+---+-------------------+---------+----------+--------------------+-------------------+------------------+\n",
      "only showing top 20 rows\n",
      "\n"
     ]
    }
   ],
   "source": [
    "test.show()"
   ]
  },
  {
   "cell_type": "code",
   "execution_count": 29,
   "metadata": {},
   "outputs": [],
   "source": [
    "#Adding hour, month and year columns to testing dataframe\n",
    "test=test.withColumn(\"Hour\",hour(test.Dates)).withColumn(\"Month\",month(test.Dates)).withColumn(\"Year\",year(test.Dates))"
   ]
  },
  {
   "cell_type": "code",
   "execution_count": 30,
   "metadata": {},
   "outputs": [
    {
     "name": "stdout",
     "output_type": "stream",
     "text": [
      "root\n",
      " |-- Id: integer (nullable = true)\n",
      " |-- Dates: timestamp (nullable = true)\n",
      " |-- DayOfWeek: string (nullable = true)\n",
      " |-- PdDistrict: string (nullable = true)\n",
      " |-- Address: string (nullable = true)\n",
      " |-- X: double (nullable = true)\n",
      " |-- Y: double (nullable = true)\n",
      " |-- Hour: integer (nullable = true)\n",
      " |-- Month: integer (nullable = true)\n",
      " |-- Year: integer (nullable = true)\n",
      "\n"
     ]
    }
   ],
   "source": [
    "test.printSchema()"
   ]
  },
  {
   "cell_type": "code",
   "execution_count": 31,
   "metadata": {},
   "outputs": [],
   "source": [
    "#Getting cleaned version of test data\n",
    "cleanedTest=test.select('Id','DayOfWeek',expr('PdDistrict AS District'),'X','Y','Hour','Month','Year')"
   ]
  },
  {
   "cell_type": "code",
   "execution_count": 32,
   "metadata": {},
   "outputs": [
    {
     "name": "stdout",
     "output_type": "stream",
     "text": [
      "+---+---------+----------+-------------------+------------------+----+-----+----+\n",
      "| Id|DayOfWeek|  District|                  X|                 Y|Hour|Month|Year|\n",
      "+---+---------+----------+-------------------+------------------+----+-----+----+\n",
      "|  0|   Sunday|   BAYVIEW|-122.39958770418998|  37.7350510103906|  23|    5|2015|\n",
      "|  1|   Sunday|   BAYVIEW|  -122.391522893042|  37.7324323864471|  23|    5|2015|\n",
      "|  2|   Sunday|  NORTHERN|  -122.426001954961|  37.7922124386284|  23|    5|2015|\n",
      "|  3|   Sunday| INGLESIDE|  -122.437393972517|  37.7214120621391|  23|    5|2015|\n",
      "|  4|   Sunday| INGLESIDE|  -122.437393972517|  37.7214120621391|  23|    5|2015|\n",
      "|  5|   Sunday|   TARAVAL|-122.45902362242902|  37.7131719025215|  23|    5|2015|\n",
      "|  6|   Sunday| INGLESIDE|-122.42561645123001| 37.73935051446279|  23|    5|2015|\n",
      "|  7|   Sunday| INGLESIDE|-122.41265203979201|37.739750156312105|  23|    5|2015|\n",
      "|  8|   Sunday|   MISSION|  -122.418700097043|  37.7651649409646|  23|    5|2015|\n",
      "|  9|   Sunday|   CENTRAL|  -122.413934584561|37.798886450641604|  23|    5|2015|\n",
      "| 10|   Sunday| INGLESIDE|-122.40860777448499|  37.7467873555673|  23|    5|2015|\n",
      "| 11|   Sunday|   MISSION|  -122.411093822635|  37.7610475742041|  23|    5|2015|\n",
      "| 12|   Sunday|   MISSION|  -122.411093822635|  37.7610475742041|  23|    5|2015|\n",
      "| 13|   Sunday|   CENTRAL|  -122.402130610278|  37.7993635026487|  23|    5|2015|\n",
      "| 14|   Sunday|   CENTRAL|  -122.420747467177|  37.8075877427735|  23|    5|2015|\n",
      "| 15|   Sunday|TENDERLOIN|  -122.415508242782|  37.7816542806076|  22|    5|2015|\n",
      "| 16|   Sunday|   TARAVAL|-122.45567852962401|  37.7237017394146|  22|    5|2015|\n",
      "| 17|   Sunday| INGLESIDE|  -122.400298318649|  37.7171808374172|  22|    5|2015|\n",
      "| 18|   Sunday|  NORTHERN|  -122.433668534709|   37.787708547267|  22|    5|2015|\n",
      "| 19|   Sunday|  NORTHERN|  -122.422149614358|  37.7978243786265|  22|    5|2015|\n",
      "+---+---------+----------+-------------------+------------------+----+-----+----+\n",
      "only showing top 20 rows\n",
      "\n"
     ]
    }
   ],
   "source": [
    "#This is how the testing data looks like\n",
    "cleanedTest.show()"
   ]
  },
  {
   "cell_type": "code",
   "execution_count": 33,
   "metadata": {},
   "outputs": [
    {
     "data": {
      "text/plain": [
       "884262"
      ]
     },
     "execution_count": 33,
     "metadata": {},
     "output_type": "execute_result"
    }
   ],
   "source": [
    "test.count()"
   ]
  },
  {
   "cell_type": "code",
   "execution_count": 34,
   "metadata": {},
   "outputs": [
    {
     "data": {
      "text/plain": [
       "878049"
      ]
     },
     "execution_count": 34,
     "metadata": {},
     "output_type": "execute_result"
    }
   ],
   "source": [
    "train.count()"
   ]
  },
  {
   "cell_type": "markdown",
   "metadata": {},
   "source": [
    "### Crimes Predictions"
   ]
  },
  {
   "cell_type": "code",
   "execution_count": 35,
   "metadata": {},
   "outputs": [],
   "source": [
    "# Loading all needed libraries\n",
    "from pyspark.ml.classification import RandomForestClassifier, LogisticRegression\n",
    "from pyspark.ml.feature import VectorAssembler\n",
    "from pyspark.ml import Pipeline\n",
    "from pyspark.ml.feature import StringIndexer\n",
    "from pyspark.ml.feature import OneHotEncoder\n",
    "from pyspark.ml.feature import StandardScaler"
   ]
  },
  {
   "cell_type": "markdown",
   "metadata": {},
   "source": [
    "In this part we will change categorical data into numerical values in 2 steps first stringindexing which will output one column with number instead of categories then we will make one hot encoding which will output 1 column per category\n"
   ]
  },
  {
   "cell_type": "code",
   "execution_count": 36,
   "metadata": {},
   "outputs": [],
   "source": [
    "district_indexer = StringIndexer(inputCol='District',outputCol='DistrictIndex')\n",
    "district_encoder = OneHotEncoder(inputCol='DistrictIndex',outputCol='DistrictVec')\n",
    "\n",
    "DayOfWeek_indexer = StringIndexer(inputCol='DayOfWeek',outputCol='DayOfWeekIndex')\n",
    "DayOfWeek_encoder = OneHotEncoder(inputCol='DayOfWeekIndex',outputCol='DayOfWeekVec')"
   ]
  },
  {
   "cell_type": "markdown",
   "metadata": {},
   "source": [
    "Now we will use vector assembler to put all features in one column"
   ]
  },
  {
   "cell_type": "code",
   "execution_count": 37,
   "metadata": {},
   "outputs": [],
   "source": [
    "assembler = VectorAssembler(inputCols=['DayOfWeekVec',\n",
    " 'DistrictVec',\n",
    " 'X',\n",
    " 'Y',\n",
    " 'Hour',\n",
    " 'Month',\n",
    " 'Year'],outputCol='AssemblerFeatures')"
   ]
  },
  {
   "cell_type": "markdown",
   "metadata": {},
   "source": [
    "Before classifying we will scale our features"
   ]
  },
  {
   "cell_type": "code",
   "execution_count": 38,
   "metadata": {},
   "outputs": [],
   "source": [
    "feature_scaler = StandardScaler(inputCol=\"AssemblerFeatures\",outputCol=\"features\")"
   ]
  },
  {
   "cell_type": "markdown",
   "metadata": {},
   "source": [
    "#### First we will use logistic regression as a classifier"
   ]
  },
  {
   "cell_type": "code",
   "execution_count": 39,
   "metadata": {},
   "outputs": [],
   "source": [
    "log_reg_crimes = LogisticRegression(featuresCol='features',labelCol='label',regParam=0.1)"
   ]
  },
  {
   "cell_type": "code",
   "execution_count": 40,
   "metadata": {},
   "outputs": [],
   "source": [
    "pipeline = Pipeline(stages=[district_indexer,DayOfWeek_indexer,\n",
    "                           district_encoder,DayOfWeek_encoder,\n",
    "                           assembler,feature_scaler,log_reg_crimes])"
   ]
  },
  {
   "cell_type": "code",
   "execution_count": 41,
   "metadata": {},
   "outputs": [],
   "source": [
    "lr_model = pipeline.fit(cleanedTrain)"
   ]
  },
  {
   "cell_type": "code",
   "execution_count": 42,
   "metadata": {},
   "outputs": [],
   "source": [
    "lr_results = lr_model.transform(cleanedTest)"
   ]
  },
  {
   "cell_type": "code",
   "execution_count": 43,
   "metadata": {},
   "outputs": [
    {
     "name": "stdout",
     "output_type": "stream",
     "text": [
      "+---+---------+---------+-------------------+----------------+----+-----+----+-------------+--------------+-------------+------------+--------------------+--------------------+--------------------+--------------------+----------+\n",
      "| Id|DayOfWeek| District|                  X|               Y|Hour|Month|Year|DistrictIndex|DayOfWeekIndex|  DistrictVec|DayOfWeekVec|   AssemblerFeatures|            features|       rawPrediction|         probability|prediction|\n",
      "+---+---------+---------+-------------------+----------------+----+-----+----+-------------+--------------+-------------+------------+--------------------+--------------------+--------------------+--------------------+----------+\n",
      "|  0|   Sunday|  BAYVIEW|-122.39958770418998|37.7350510103906|  23|    5|2015|          3.0|           6.0|(9,[3],[1.0])|   (6,[],[])|(20,[9,15,16,17,1...|(20,[9,15,16,17,1...|[4.33864192426199...|[0.01790737368004...|      36.0|\n",
      "|  1|   Sunday|  BAYVIEW|  -122.391522893042|37.7324323864471|  23|    5|2015|          3.0|           6.0|(9,[3],[1.0])|   (6,[],[])|(20,[9,15,16,17,1...|(20,[9,15,16,17,1...|[4.33842546770524...|[0.01790117903453...|      36.0|\n",
      "|  2|   Sunday| NORTHERN|  -122.426001954961|37.7922124386284|  23|    5|2015|          2.0|           6.0|(9,[2],[1.0])|   (6,[],[])|(20,[8,15,16,17,1...|(20,[8,15,16,17,1...|[4.36344394380753...|[0.01732745512756...|      36.0|\n",
      "|  3|   Sunday|INGLESIDE|  -122.437393972517|37.7214120621391|  23|    5|2015|          6.0|           6.0|(9,[6],[1.0])|   (6,[],[])|(20,[12,15,16,17,...|(20,[12,15,16,17,...|[4.35373833022746...|[0.01811432229703...|      36.0|\n",
      "|  4|   Sunday|INGLESIDE|  -122.437393972517|37.7214120621391|  23|    5|2015|          6.0|           6.0|(9,[6],[1.0])|   (6,[],[])|(20,[12,15,16,17,...|(20,[12,15,16,17,...|[4.35373833022746...|[0.01811432229703...|      36.0|\n",
      "+---+---------+---------+-------------------+----------------+----+-----+----+-------------+--------------+-------------+------------+--------------------+--------------------+--------------------+--------------------+----------+\n",
      "only showing top 5 rows\n",
      "\n"
     ]
    }
   ],
   "source": [
    "lr_results.show(5)"
   ]
  },
  {
   "cell_type": "markdown",
   "metadata": {},
   "source": [
    "We will create a new dataframe with only Id and probability columns"
   ]
  },
  {
   "cell_type": "code",
   "execution_count": 44,
   "metadata": {},
   "outputs": [
    {
     "name": "stdout",
     "output_type": "stream",
     "text": [
      "+---+------------------------------------------------------------------------------------------------------------------------------------------------------------------------------------------------------------------------------------------------------------------------------------------------------------------------------------------------------------------------------------------------------------------------------------------------------------------------------------------------------------------------------------------------------------------------------------------------------------------------------------------------------------------------------------------------------------------------------------------------------------------------------------------------------------------------------------------------------+\n",
      "|Id |probability                                                                                                                                                                                                                                                                                                                                                                                                                                                                                                                                                                                                                                                                                                                                                                                                                                           |\n",
      "+---+------------------------------------------------------------------------------------------------------------------------------------------------------------------------------------------------------------------------------------------------------------------------------------------------------------------------------------------------------------------------------------------------------------------------------------------------------------------------------------------------------------------------------------------------------------------------------------------------------------------------------------------------------------------------------------------------------------------------------------------------------------------------------------------------------------------------------------------------------+\n",
      "|0  |[0.01790737368004507,6.154015812085537E-4,0.004730386798639194,0.0024836015974382297,0.011616230240327586,7.300377840891718E-4,0.031698927533176754,0.15628664199538772,0.002672092369117311,0.04748144049231824,0.0016572791952790013,1.361959944694154E-11,0.011611310899972232,6.8411230201302354E-12,3.86127196790309E-4,0.08656782249244069,0.004684479475973636,4.296578293145007E-4,1.5150072852115167E-24,0.00978997629779856,0.001238653263619507,0.03636588219364058,0.026378368210473298,0.008441657197056862,0.0011783224065951392,1.791640754610466E-4,0.0046651419448398386,0.0023652888788682647,0.0035454762973106306,0.05273447814719003,0.05835666806034548,1.2997704859389215E-22,0.008232068352241332,0.061130421725971815,0.09839676118766795,0.005021586499543769,0.1961750351959266,0.0029261880749228736,0.041320050808547566]|\n",
      "|1  |[0.017901179034539534,6.151951865861356E-4,0.004729017546560712,0.0024827177354309936,0.011614160378485061,7.297849455405425E-4,0.031692562196453805,0.15623546718400252,0.002671297651630806,0.04745778541342196,0.0016567446918995907,1.3629578143166484E-11,0.011603442919227698,6.846428835892957E-12,3.860011593635006E-4,0.08653776859589248,0.004683010090993894,4.2950768276749774E-4,1.5187471211819497E-24,0.00978741300681831,0.001238219336483352,0.036361688660847935,0.026371075865900845,0.008437383924306418,0.0011779317749497,1.7911418378698687E-4,0.004663425114237811,0.0023644270494118822,0.0035444546418393094,0.05271814244962464,0.05829692926579571,1.3027022843090503E-22,0.008229422989542243,0.060988360903230246,0.0984694012588318,0.005020432593974934,0.19650292912308878,0.002925331340650368,0.04129827408340579] |\n",
      "+---+------------------------------------------------------------------------------------------------------------------------------------------------------------------------------------------------------------------------------------------------------------------------------------------------------------------------------------------------------------------------------------------------------------------------------------------------------------------------------------------------------------------------------------------------------------------------------------------------------------------------------------------------------------------------------------------------------------------------------------------------------------------------------------------------------------------------------------------------------+\n",
      "only showing top 2 rows\n",
      "\n"
     ]
    }
   ],
   "source": [
    "lr_prob=lr_results.select(col('Id'),col('probability'))\n",
    "lr_prob.show(2,truncate=False)"
   ]
  },
  {
   "cell_type": "markdown",
   "metadata": {},
   "source": [
    "Our target now is to change the shape of probabilities dataframe into the format accpected by kaggle and we can do it as below"
   ]
  },
  {
   "cell_type": "code",
   "execution_count": 45,
   "metadata": {},
   "outputs": [],
   "source": [
    "from pyspark.sql.functions import udf\n",
    "from pyspark.sql.types import FloatType\n",
    "\n",
    "lr_prob=lr_prob.withColumn(\"FRAUD\",udf(lambda v:float(v[0]),FloatType())('probability'))\\\n",
    ".withColumn(\"SUICIDE\",udf(lambda v:float(v[1]),FloatType())('probability'))\\\n",
    ".withColumn(\"SEX OFFENSES FORCIBLE\",udf(lambda v:float(v[2]),FloatType())('probability'))\\\n",
    ".withColumn(\"LIQUOR LAWS\",udf(lambda v:float(v[3]),FloatType())('probability'))\\\n",
    ".withColumn(\"SECONDARY CODES\",udf(lambda v:float(v[4]),FloatType())('probability'))\\\n",
    ".withColumn(\"FAMILY OFFENSES\",udf(lambda v:float(v[5]),FloatType())('probability'))\\\n",
    ".withColumn(\"MISSING PERSON\",udf(lambda v:float(v[6]),FloatType())('probability'))\\\n",
    ".withColumn(\"OTHER OFFENSES\",udf(lambda v:float(v[7]),FloatType())('probability'))\\\n",
    ".withColumn(\"DRIVING UNDER THE INFLUENCE\",udf(lambda v:float(v[8]),FloatType())('probability'))\\\n",
    ".withColumn(\"WARRANTS\",udf(lambda v:float(v[9]),FloatType())('probability'))\\\n",
    ".withColumn(\"ARSON\",udf(lambda v:float(v[10]),FloatType())('probability'))\\\n",
    ".withColumn(\"SEX OFFENSES NON FORCIBLE\",udf(lambda v:float(v[11]),FloatType())('probability'))\\\n",
    ".withColumn(\"FORGERY/COUNTERFEITING\",udf(lambda v:float(v[12]),FloatType())('probability'))\\\n",
    ".withColumn(\"GAMBLING\",udf(lambda v:float(v[13]),FloatType())('probability'))\\\n",
    ".withColumn(\"BRIBERY\",udf(lambda v:float(v[14]),FloatType())('probability'))\\\n",
    ".withColumn(\"ASSAULT\",udf(lambda v:float(v[15]),FloatType())('probability'))\\\n",
    ".withColumn(\"DRUNKENNESS\",udf(lambda v:float(v[16]),FloatType())('probability'))\\\n",
    ".withColumn(\"EXTORTION\",udf(lambda v:float(v[17]),FloatType())('probability'))\\\n",
    ".withColumn(\"TREA\",udf(lambda v:float(v[18]),FloatType())('probability'))\\\n",
    ".withColumn(\"WEAPON LAWS\",udf(lambda v:float(v[19]),FloatType())('probability'))\\\n",
    ".withColumn(\"LOITERING\",udf(lambda v:float(v[20]),FloatType())('probability'))\\\n",
    ".withColumn(\"SUSPICIOUS OCC\",udf(lambda v:float(v[21]),FloatType())('probability'))\\\n",
    ".withColumn(\"ROBBERY\",udf(lambda v:float(v[22]),FloatType())('probability'))\\\n",
    ".withColumn(\"PROSTITUTION\",udf(lambda v:float(v[23]),FloatType())('probability'))\\\n",
    ".withColumn(\"EMBEZZLEMENT\",udf(lambda v:float(v[24]),FloatType())('probability'))\\\n",
    ".withColumn(\"BAD CHECKS\",udf(lambda v:float(v[25]),FloatType())('probability'))\\\n",
    ".withColumn(\"DISORDERLY CONDUCT\",udf(lambda v:float(v[26]),FloatType())('probability'))\\\n",
    ".withColumn(\"RUNAWAY\",udf(lambda v:float(v[27]),FloatType())('probability'))\\\n",
    ".withColumn(\"RECOVERED VEHICLE\",udf(lambda v:float(v[28]),FloatType())('probability'))\\\n",
    ".withColumn(\"VANDALISM\",udf(lambda v:float(v[29]),FloatType())('probability'))\\\n",
    ".withColumn(\"DRUG/NARCOTIC\",udf(lambda v:float(v[30]),FloatType())('probability'))\\\n",
    ".withColumn(\"PORNOGRAPHY/OBSCENE MAT\",udf(lambda v:float(v[31]),FloatType())('probability'))\\\n",
    ".withColumn(\"TRESPASS\",udf(lambda v:float(v[32]),FloatType())('probability'))\\\n",
    ".withColumn(\"VEHICLE THEFT\",udf(lambda v:float(v[33]),FloatType())('probability'))\\\n",
    ".withColumn(\"NON-CRIMINAL\",udf(lambda v:float(v[34]),FloatType())('probability'))\\\n",
    ".withColumn(\"STOLEN PROPERTY\",udf(lambda v:float(v[35]),FloatType())('probability'))\\\n",
    ".withColumn(\"LARCENY/THEFT\",udf(lambda v:float(v[36]),FloatType())('probability'))\\\n",
    ".withColumn(\"KIDNAPPING\",udf(lambda v:float(v[37]),FloatType())('probability'))\\\n",
    ".withColumn(\"BURGLARY\",udf(lambda v:float(v[38]),FloatType())('probability'))\\\n",
    ".drop('probability')\\\n"
   ]
  },
  {
   "cell_type": "code",
   "execution_count": 46,
   "metadata": {},
   "outputs": [
    {
     "name": "stdout",
     "output_type": "stream",
     "text": [
      "+---+-----------+------------+---------------------+------------+---------------+---------------+--------------+--------------+---------------------------+-----------+------------+-------------------------+----------------------+------------+------------+----------+------------+------------+-------------+-----------+------------+--------------+-----------+------------+------------+------------+------------------+------------+-----------------+-----------+-------------+-----------------------+------------+-------------+------------+---------------+-------------+------------+-----------+\n",
      "| Id|      FRAUD|     SUICIDE|SEX OFFENSES FORCIBLE| LIQUOR LAWS|SECONDARY CODES|FAMILY OFFENSES|MISSING PERSON|OTHER OFFENSES|DRIVING UNDER THE INFLUENCE|   WARRANTS|       ARSON|SEX OFFENSES NON FORCIBLE|FORGERY/COUNTERFEITING|    GAMBLING|     BRIBERY|   ASSAULT| DRUNKENNESS|   EXTORTION|         TREA|WEAPON LAWS|   LOITERING|SUSPICIOUS OCC|    ROBBERY|PROSTITUTION|EMBEZZLEMENT|  BAD CHECKS|DISORDERLY CONDUCT|     RUNAWAY|RECOVERED VEHICLE|  VANDALISM|DRUG/NARCOTIC|PORNOGRAPHY/OBSCENE MAT|    TRESPASS|VEHICLE THEFT|NON-CRIMINAL|STOLEN PROPERTY|LARCENY/THEFT|  KIDNAPPING|   BURGLARY|\n",
      "+---+-----------+------------+---------------------+------------+---------------+---------------+--------------+--------------+---------------------------+-----------+------------+-------------------------+----------------------+------------+------------+----------+------------+------------+-------------+-----------+------------+--------------+-----------+------------+------------+------------+------------------+------------+-----------------+-----------+-------------+-----------------------+------------+-------------+------------+---------------+-------------+------------+-----------+\n",
      "|  0|0.017907374| 6.154016E-4|         0.0047303867|0.0024836017|     0.01161623|    7.300378E-4|   0.031698927|    0.15628664|               0.0026720923| 0.04748144|0.0016572792|            1.3619599E-11|           0.011611311|6.841123E-12|3.8612718E-4|0.08656782|0.0046844794|4.2965784E-4|1.5150073E-24|0.009789976|0.0012386533|    0.03636588|0.026378369| 0.008441657|0.0011783224|1.7916408E-4|       0.004665142|0.0023652888|     0.0035454764| 0.05273448|   0.05835667|          1.2997705E-22| 0.008232068|  0.061130423|  0.09839676|   0.0050215865|   0.19617504| 0.002926188|0.041320052|\n",
      "|  1|0.017901178| 6.151952E-4|         0.0047290176|0.0024827176|    0.011614161|   7.2978495E-4|    0.03169256|    0.15623547|               0.0026712976|0.047457784|0.0016567447|            1.3629578E-11|           0.011603443|6.846429E-12|3.8600116E-4|0.08653777|0.0046830103| 4.295077E-4|1.5187472E-24|0.009787413|0.0012382193|   0.036361687|0.026371077| 0.008437384|0.0011779318|1.7911418E-4|       0.004663425| 0.002364427|     0.0035444547|0.052718144|   0.05829693|          1.3027023E-22| 0.008229423|   0.06098836|   0.0984694|   0.0050204326|   0.19650292|0.0029253312|0.041298274|\n",
      "|  2|0.017327456|5.8159494E-4|           0.00446513|0.0023453606|    0.010723143|    6.883794E-4|   0.027263535|    0.12284649|                0.002526465|0.044365402|0.0015538988|            1.2814261E-11|           0.011077247|6.434623E-12| 3.642957E-4|0.07570877| 0.004432544|4.0593257E-4|1.4178172E-24|0.008999403|0.0011737131|   0.033270177|0.024587842| 0.008312995|0.0011133095|1.6925321E-4|      0.0044270284|0.0022225305|     0.0033022861|0.048764035|  0.054198686|          1.2173845E-22|0.0077808187|  0.055198442|  0.09940464|    0.004767707|   0.27266777|0.0027546212|  0.0402091|\n",
      "+---+-----------+------------+---------------------+------------+---------------+---------------+--------------+--------------+---------------------------+-----------+------------+-------------------------+----------------------+------------+------------+----------+------------+------------+-------------+-----------+------------+--------------+-----------+------------+------------+------------+------------------+------------+-----------------+-----------+-------------+-----------------------+------------+-------------+------------+---------------+-------------+------------+-----------+\n",
      "only showing top 3 rows\n",
      "\n"
     ]
    }
   ],
   "source": [
    "lr_prob.show(3)"
   ]
  },
  {
   "cell_type": "markdown",
   "metadata": {},
   "source": [
    "Now we will write the correctly formatted dataframe into csv using caalesce in order to get only one csv file"
   ]
  },
  {
   "cell_type": "code",
   "execution_count": 47,
   "metadata": {},
   "outputs": [],
   "source": [
    "#lr_prob.coalesce(1).write.option(\"header\", \"true\").csv('/home/jovyan/lr_regParam_0.1')"
   ]
  },
  {
   "cell_type": "markdown",
   "metadata": {},
   "source": [
    "#### Now we will use Random Forest as a classifier\n"
   ]
  },
  {
   "cell_type": "code",
   "execution_count": 48,
   "metadata": {},
   "outputs": [],
   "source": [
    "rf_crimes = RandomForestClassifier(featuresCol='features',labelCol='label', numTrees = 50)"
   ]
  },
  {
   "cell_type": "code",
   "execution_count": 49,
   "metadata": {},
   "outputs": [],
   "source": [
    "pipeline = Pipeline(stages=[district_indexer,DayOfWeek_indexer,\n",
    "                           district_encoder,DayOfWeek_encoder,\n",
    "                           assembler,feature_scaler,rf_crimes])"
   ]
  },
  {
   "cell_type": "code",
   "execution_count": 50,
   "metadata": {},
   "outputs": [],
   "source": [
    "rf_model = pipeline.fit(cleanedTrain)"
   ]
  },
  {
   "cell_type": "code",
   "execution_count": 51,
   "metadata": {},
   "outputs": [],
   "source": [
    "rf_results = rf_model.transform(cleanedTest)"
   ]
  },
  {
   "cell_type": "code",
   "execution_count": 52,
   "metadata": {},
   "outputs": [
    {
     "name": "stdout",
     "output_type": "stream",
     "text": [
      "+---+---------+---------+-------------------+----------------+----+-----+----+-------------+--------------+-------------+------------+--------------------+--------------------+--------------------+--------------------+----------+\n",
      "| Id|DayOfWeek| District|                  X|               Y|Hour|Month|Year|DistrictIndex|DayOfWeekIndex|  DistrictVec|DayOfWeekVec|   AssemblerFeatures|            features|       rawPrediction|         probability|prediction|\n",
      "+---+---------+---------+-------------------+----------------+----+-----+----+-------------+--------------+-------------+------------+--------------------+--------------------+--------------------+--------------------+----------+\n",
      "|  0|   Sunday|  BAYVIEW|-122.39958770418998|37.7350510103906|  23|    5|2015|          3.0|           6.0|(9,[3],[1.0])|   (6,[],[])|(20,[9,15,16,17,1...|(20,[9,15,16,17,1...|[0.54654780229518...|[0.01093095604590...|       7.0|\n",
      "|  1|   Sunday|  BAYVIEW|  -122.391522893042|37.7324323864471|  23|    5|2015|          3.0|           6.0|(9,[3],[1.0])|   (6,[],[])|(20,[9,15,16,17,1...|(20,[9,15,16,17,1...|[0.52751245908966...|[0.01055024918179...|       7.0|\n",
      "|  2|   Sunday| NORTHERN|  -122.426001954961|37.7922124386284|  23|    5|2015|          2.0|           6.0|(9,[2],[1.0])|   (6,[],[])|(20,[8,15,16,17,1...|(20,[8,15,16,17,1...|[1.00550662844415...|[0.02011013256888...|      36.0|\n",
      "|  3|   Sunday|INGLESIDE|  -122.437393972517|37.7214120621391|  23|    5|2015|          6.0|           6.0|(9,[6],[1.0])|   (6,[],[])|(20,[12,15,16,17,...|(20,[12,15,16,17,...|[0.81639149052814...|[0.01632782981056...|      36.0|\n",
      "|  4|   Sunday|INGLESIDE|  -122.437393972517|37.7214120621391|  23|    5|2015|          6.0|           6.0|(9,[6],[1.0])|   (6,[],[])|(20,[12,15,16,17,...|(20,[12,15,16,17,...|[0.81639149052814...|[0.01632782981056...|      36.0|\n",
      "+---+---------+---------+-------------------+----------------+----+-----+----+-------------+--------------+-------------+------------+--------------------+--------------------+--------------------+--------------------+----------+\n",
      "only showing top 5 rows\n",
      "\n"
     ]
    }
   ],
   "source": [
    "rf_results.show(5)"
   ]
  },
  {
   "cell_type": "code",
   "execution_count": 53,
   "metadata": {},
   "outputs": [],
   "source": [
    "rf_prob=rf_results.select(col('Id'),col('probability'))\n",
    "rf_prob=rf_prob.withColumn(\"FRAUD\",udf(lambda v:float(v[0]),FloatType())('probability'))\\\n",
    ".withColumn(\"SUICIDE\",udf(lambda v:float(v[1]),FloatType())('probability'))\\\n",
    ".withColumn(\"SEX OFFENSES FORCIBLE\",udf(lambda v:float(v[2]),FloatType())('probability'))\\\n",
    ".withColumn(\"LIQUOR LAWS\",udf(lambda v:float(v[3]),FloatType())('probability'))\\\n",
    ".withColumn(\"SECONDARY CODES\",udf(lambda v:float(v[4]),FloatType())('probability'))\\\n",
    ".withColumn(\"FAMILY OFFENSES\",udf(lambda v:float(v[5]),FloatType())('probability'))\\\n",
    ".withColumn(\"MISSING PERSON\",udf(lambda v:float(v[6]),FloatType())('probability'))\\\n",
    ".withColumn(\"OTHER OFFENSES\",udf(lambda v:float(v[7]),FloatType())('probability'))\\\n",
    ".withColumn(\"DRIVING UNDER THE INFLUENCE\",udf(lambda v:float(v[8]),FloatType())('probability'))\\\n",
    ".withColumn(\"WARRANTS\",udf(lambda v:float(v[9]),FloatType())('probability'))\\\n",
    ".withColumn(\"ARSON\",udf(lambda v:float(v[10]),FloatType())('probability'))\\\n",
    ".withColumn(\"SEX OFFENSES NON FORCIBLE\",udf(lambda v:float(v[11]),FloatType())('probability'))\\\n",
    ".withColumn(\"FORGERY/COUNTERFEITING\",udf(lambda v:float(v[12]),FloatType())('probability'))\\\n",
    ".withColumn(\"GAMBLING\",udf(lambda v:float(v[13]),FloatType())('probability'))\\\n",
    ".withColumn(\"BRIBERY\",udf(lambda v:float(v[14]),FloatType())('probability'))\\\n",
    ".withColumn(\"ASSAULT\",udf(lambda v:float(v[15]),FloatType())('probability'))\\\n",
    ".withColumn(\"DRUNKENNESS\",udf(lambda v:float(v[16]),FloatType())('probability'))\\\n",
    ".withColumn(\"EXTORTION\",udf(lambda v:float(v[17]),FloatType())('probability'))\\\n",
    ".withColumn(\"TREA\",udf(lambda v:float(v[18]),FloatType())('probability'))\\\n",
    ".withColumn(\"WEAPON LAWS\",udf(lambda v:float(v[19]),FloatType())('probability'))\\\n",
    ".withColumn(\"LOITERING\",udf(lambda v:float(v[20]),FloatType())('probability'))\\\n",
    ".withColumn(\"SUSPICIOUS OCC\",udf(lambda v:float(v[21]),FloatType())('probability'))\\\n",
    ".withColumn(\"ROBBERY\",udf(lambda v:float(v[22]),FloatType())('probability'))\\\n",
    ".withColumn(\"PROSTITUTION\",udf(lambda v:float(v[23]),FloatType())('probability'))\\\n",
    ".withColumn(\"EMBEZZLEMENT\",udf(lambda v:float(v[24]),FloatType())('probability'))\\\n",
    ".withColumn(\"BAD CHECKS\",udf(lambda v:float(v[25]),FloatType())('probability'))\\\n",
    ".withColumn(\"DISORDERLY CONDUCT\",udf(lambda v:float(v[26]),FloatType())('probability'))\\\n",
    ".withColumn(\"RUNAWAY\",udf(lambda v:float(v[27]),FloatType())('probability'))\\\n",
    ".withColumn(\"RECOVERED VEHICLE\",udf(lambda v:float(v[28]),FloatType())('probability'))\\\n",
    ".withColumn(\"VANDALISM\",udf(lambda v:float(v[29]),FloatType())('probability'))\\\n",
    ".withColumn(\"DRUG/NARCOTIC\",udf(lambda v:float(v[30]),FloatType())('probability'))\\\n",
    ".withColumn(\"PORNOGRAPHY/OBSCENE MAT\",udf(lambda v:float(v[31]),FloatType())('probability'))\\\n",
    ".withColumn(\"TRESPASS\",udf(lambda v:float(v[32]),FloatType())('probability'))\\\n",
    ".withColumn(\"VEHICLE THEFT\",udf(lambda v:float(v[33]),FloatType())('probability'))\\\n",
    ".withColumn(\"NON-CRIMINAL\",udf(lambda v:float(v[34]),FloatType())('probability'))\\\n",
    ".withColumn(\"STOLEN PROPERTY\",udf(lambda v:float(v[35]),FloatType())('probability'))\\\n",
    ".withColumn(\"LARCENY/THEFT\",udf(lambda v:float(v[36]),FloatType())('probability'))\\\n",
    ".withColumn(\"KIDNAPPING\",udf(lambda v:float(v[37]),FloatType())('probability'))\\\n",
    ".withColumn(\"BURGLARY\",udf(lambda v:float(v[38]),FloatType())('probability'))\\\n",
    ".drop('probability')"
   ]
  },
  {
   "cell_type": "code",
   "execution_count": 54,
   "metadata": {},
   "outputs": [],
   "source": [
    "#rf_prob.coalesce(1).write.option(\"header\", \"true\").csv('/home/jovyan/rf_numTrees_50')"
   ]
  },
  {
   "cell_type": "markdown",
   "metadata": {},
   "source": [
    "#### Finally we will try Decision Tree classifier"
   ]
  },
  {
   "cell_type": "code",
   "execution_count": 55,
   "metadata": {},
   "outputs": [],
   "source": [
    "from pyspark.ml.classification import DecisionTreeClassifier\n",
    "\n",
    "dt_crimes = DecisionTreeClassifier(featuresCol='features',labelCol='label',maxDepth=5)"
   ]
  },
  {
   "cell_type": "code",
   "execution_count": 56,
   "metadata": {},
   "outputs": [
    {
     "name": "stdout",
     "output_type": "stream",
     "text": [
      "+---+---------+---------+-------------------+----------------+----+-----+----+-------------+--------------+-------------+------------+--------------------+--------------------+--------------------+--------------------+----------+\n",
      "| Id|DayOfWeek| District|                  X|               Y|Hour|Month|Year|DistrictIndex|DayOfWeekIndex|  DistrictVec|DayOfWeekVec|   AssemblerFeatures|            features|       rawPrediction|         probability|prediction|\n",
      "+---+---------+---------+-------------------+----------------+----+-----+----+-------------+--------------+-------------+------------+--------------------+--------------------+--------------------+--------------------+----------+\n",
      "|  0|   Sunday|  BAYVIEW|-122.39958770418998|37.7350510103906|  23|    5|2015|          3.0|           6.0|(9,[3],[1.0])|   (6,[],[])|(20,[9,15,16,17,1...|(20,[9,15,16,17,1...|[1796.0,101.0,903...|[0.01108340944434...|       7.0|\n",
      "|  1|   Sunday|  BAYVIEW|  -122.391522893042|37.7324323864471|  23|    5|2015|          3.0|           6.0|(9,[3],[1.0])|   (6,[],[])|(20,[9,15,16,17,1...|(20,[9,15,16,17,1...|[1796.0,101.0,903...|[0.01108340944434...|       7.0|\n",
      "|  2|   Sunday| NORTHERN|  -122.426001954961|37.7922124386284|  23|    5|2015|          2.0|           6.0|(9,[2],[1.0])|   (6,[],[])|(20,[8,15,16,17,1...|(20,[8,15,16,17,1...|[7113.0,189.0,131...|[0.02075570249284...|      36.0|\n",
      "|  3|   Sunday|INGLESIDE|  -122.437393972517|37.7214120621391|  23|    5|2015|          6.0|           6.0|(9,[6],[1.0])|   (6,[],[])|(20,[12,15,16,17,...|(20,[12,15,16,17,...|[2547.0,94.0,719....|[0.02207143971299...|      36.0|\n",
      "|  4|   Sunday|INGLESIDE|  -122.437393972517|37.7214120621391|  23|    5|2015|          6.0|           6.0|(9,[6],[1.0])|   (6,[],[])|(20,[12,15,16,17,...|(20,[12,15,16,17,...|[2547.0,94.0,719....|[0.02207143971299...|      36.0|\n",
      "+---+---------+---------+-------------------+----------------+----+-----+----+-------------+--------------+-------------+------------+--------------------+--------------------+--------------------+--------------------+----------+\n",
      "only showing top 5 rows\n",
      "\n"
     ]
    }
   ],
   "source": [
    "pipeline = Pipeline(stages=[district_indexer,DayOfWeek_indexer,\n",
    "                           district_encoder,DayOfWeek_encoder,\n",
    "                           assembler,feature_scaler,dt_crimes])\n",
    "\n",
    "dt_model = pipeline.fit(cleanedTrain)\n",
    "dt_results = dt_model.transform(cleanedTest)\n",
    "dt_results.show(5)"
   ]
  },
  {
   "cell_type": "code",
   "execution_count": 57,
   "metadata": {},
   "outputs": [],
   "source": [
    "dt_prob=dt_results.select(col('Id'),col('probability'))\n",
    "dt_prob=dt_prob.withColumn(\"FRAUD\",udf(lambda v:float(v[0]),FloatType())('probability'))\\\n",
    ".withColumn(\"SUICIDE\",udf(lambda v:float(v[1]),FloatType())('probability'))\\\n",
    ".withColumn(\"SEX OFFENSES FORCIBLE\",udf(lambda v:float(v[2]),FloatType())('probability'))\\\n",
    ".withColumn(\"LIQUOR LAWS\",udf(lambda v:float(v[3]),FloatType())('probability'))\\\n",
    ".withColumn(\"SECONDARY CODES\",udf(lambda v:float(v[4]),FloatType())('probability'))\\\n",
    ".withColumn(\"FAMILY OFFENSES\",udf(lambda v:float(v[5]),FloatType())('probability'))\\\n",
    ".withColumn(\"MISSING PERSON\",udf(lambda v:float(v[6]),FloatType())('probability'))\\\n",
    ".withColumn(\"OTHER OFFENSES\",udf(lambda v:float(v[7]),FloatType())('probability'))\\\n",
    ".withColumn(\"DRIVING UNDER THE INFLUENCE\",udf(lambda v:float(v[8]),FloatType())('probability'))\\\n",
    ".withColumn(\"WARRANTS\",udf(lambda v:float(v[9]),FloatType())('probability'))\\\n",
    ".withColumn(\"ARSON\",udf(lambda v:float(v[10]),FloatType())('probability'))\\\n",
    ".withColumn(\"SEX OFFENSES NON FORCIBLE\",udf(lambda v:float(v[11]),FloatType())('probability'))\\\n",
    ".withColumn(\"FORGERY/COUNTERFEITING\",udf(lambda v:float(v[12]),FloatType())('probability'))\\\n",
    ".withColumn(\"GAMBLING\",udf(lambda v:float(v[13]),FloatType())('probability'))\\\n",
    ".withColumn(\"BRIBERY\",udf(lambda v:float(v[14]),FloatType())('probability'))\\\n",
    ".withColumn(\"ASSAULT\",udf(lambda v:float(v[15]),FloatType())('probability'))\\\n",
    ".withColumn(\"DRUNKENNESS\",udf(lambda v:float(v[16]),FloatType())('probability'))\\\n",
    ".withColumn(\"EXTORTION\",udf(lambda v:float(v[17]),FloatType())('probability'))\\\n",
    ".withColumn(\"TREA\",udf(lambda v:float(v[18]),FloatType())('probability'))\\\n",
    ".withColumn(\"WEAPON LAWS\",udf(lambda v:float(v[19]),FloatType())('probability'))\\\n",
    ".withColumn(\"LOITERING\",udf(lambda v:float(v[20]),FloatType())('probability'))\\\n",
    ".withColumn(\"SUSPICIOUS OCC\",udf(lambda v:float(v[21]),FloatType())('probability'))\\\n",
    ".withColumn(\"ROBBERY\",udf(lambda v:float(v[22]),FloatType())('probability'))\\\n",
    ".withColumn(\"PROSTITUTION\",udf(lambda v:float(v[23]),FloatType())('probability'))\\\n",
    ".withColumn(\"EMBEZZLEMENT\",udf(lambda v:float(v[24]),FloatType())('probability'))\\\n",
    ".withColumn(\"BAD CHECKS\",udf(lambda v:float(v[25]),FloatType())('probability'))\\\n",
    ".withColumn(\"DISORDERLY CONDUCT\",udf(lambda v:float(v[26]),FloatType())('probability'))\\\n",
    ".withColumn(\"RUNAWAY\",udf(lambda v:float(v[27]),FloatType())('probability'))\\\n",
    ".withColumn(\"RECOVERED VEHICLE\",udf(lambda v:float(v[28]),FloatType())('probability'))\\\n",
    ".withColumn(\"VANDALISM\",udf(lambda v:float(v[29]),FloatType())('probability'))\\\n",
    ".withColumn(\"DRUG/NARCOTIC\",udf(lambda v:float(v[30]),FloatType())('probability'))\\\n",
    ".withColumn(\"PORNOGRAPHY/OBSCENE MAT\",udf(lambda v:float(v[31]),FloatType())('probability'))\\\n",
    ".withColumn(\"TRESPASS\",udf(lambda v:float(v[32]),FloatType())('probability'))\\\n",
    ".withColumn(\"VEHICLE THEFT\",udf(lambda v:float(v[33]),FloatType())('probability'))\\\n",
    ".withColumn(\"NON-CRIMINAL\",udf(lambda v:float(v[34]),FloatType())('probability'))\\\n",
    ".withColumn(\"STOLEN PROPERTY\",udf(lambda v:float(v[35]),FloatType())('probability'))\\\n",
    ".withColumn(\"LARCENY/THEFT\",udf(lambda v:float(v[36]),FloatType())('probability'))\\\n",
    ".withColumn(\"KIDNAPPING\",udf(lambda v:float(v[37]),FloatType())('probability'))\\\n",
    ".withColumn(\"BURGLARY\",udf(lambda v:float(v[38]),FloatType())('probability'))\\\n",
    ".drop('probability')"
   ]
  },
  {
   "cell_type": "code",
   "execution_count": 58,
   "metadata": {},
   "outputs": [],
   "source": [
    "#dt_prob.coalesce(1).write.option(\"header\", \"true\").csv('/home/jovyan/dt_maxDepth_5')"
   ]
  },
  {
   "cell_type": "code",
   "execution_count": null,
   "metadata": {},
   "outputs": [],
   "source": []
  }
 ],
 "metadata": {
  "kernelspec": {
   "display_name": "Python 3",
   "language": "python",
   "name": "python3"
  },
  "language_info": {
   "codemirror_mode": {
    "name": "ipython",
    "version": 3
   },
   "file_extension": ".py",
   "mimetype": "text/x-python",
   "name": "python",
   "nbconvert_exporter": "python",
   "pygments_lexer": "ipython3",
   "version": "3.7.3"
  }
 },
 "nbformat": 4,
 "nbformat_minor": 2
}
